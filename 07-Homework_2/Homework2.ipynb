{
 "cells": [
  {
   "cell_type": "markdown",
   "metadata": {},
   "source": [
    "# Hacking Incident\n",
    "\n",
    "We're being hacked! We need your help to get a message to the main server.\n",
    "\n",
    "We need you to accomplish 3 tasks:\n",
    "\n",
    "1. Create a Caeser cipher encryption function.\n",
    "2. Create another function that decrypts a Caeser cipher message.\n",
    "\n",
    "We've set up a framework for you to follow here in this notebook. Feel free to use it, or create your own base functions."
   ]
  },
  {
   "cell_type": "markdown",
   "metadata": {},
   "source": [
    "## Encryption Function\n",
    "\n",
    "This function should take in two parameters, the plain text message and the shift number for the Caeser cipher.\n",
    "\n",
    "To create the cipher you will need to create a list of the alphabet. You can either write out the alphabet manually, or use the [string library](https://docs.python.org/3/library/string.html?highlight=string#module-string) to get all the lowercase alphabet. You will first need to run *import string* , and then call the attribute. For example:\n",
    "\n",
    "    import string\n",
    "    alphabet = string.ascii_lowercase\n",
    "    print(alphabet)\n",
    "    print(list(alphabet))\n",
    "    \n",
    "An empty function with some comments is here below for you to fill out:"
   ]
  },
  {
   "cell_type": "code",
   "execution_count": 32,
   "metadata": {
    "collapsed": true
   },
   "outputs": [],
   "source": [
    "import string\n",
    "\n",
    "def encrypt(text, shift):\n",
    "    '''\n",
    "    INPUT: text as a string and an integer for the shift value.\n",
    "    OUTPUT: The shifted text after being run through the Caesar cipher.\n",
    "    '''\n",
    "    # Create a normal plain alphabet\n",
    "    alphabet = string.ascii_lowercase\n",
    "    \n",
    "    # Create a shifted version of this alphabet\n",
    "    shifted_alphabet = alphabet[shift:] + alphabet[:shift]\n",
    "    \n",
    "    # Use a for loop to go through each character in the original message.\n",
    "    # Then figure out its index match in the shifted alphabet and replace.\n",
    "    # It might be helpful to create an output variable to hold the new message.\n",
    "    # Keep in mind you may want to skip punctuation with an if statement.\n",
    "    encrypted_characters = []\n",
    "    for char in text:\n",
    "        if char.isalpha() or char.isspace():\n",
    "            is_upper = char.isupper()\n",
    "            try:\n",
    "                index = alphabet.index(char.lower())\n",
    "                shifted_char = shifted_alphabet[index]\n",
    "                encrypted_characters.append(shifted_char.upper() if is_upper else shifted_char)\n",
    "            except ValueError:\n",
    "                encrypted_characters.append(char)\n",
    "\n",
    "\n",
    "    # Return the shifted message. Use ''.join() method \n",
    "    encrypted_text = ''.join(encrypted_characters)\n",
    "    # if you still have it as a list.\n",
    "    return encrypted_text"
   ]
  },
  {
   "cell_type": "markdown",
   "metadata": {},
   "source": [
    "** An example input and output: **"
   ]
  },
  {
   "cell_type": "code",
   "execution_count": 39,
   "metadata": {},
   "outputs": [
    {
     "name": "stdout",
     "output_type": "stream",
     "text": [
      "Genafsre guvf zrffntr vzzrqvngryl guvf vf abg n qevyy genafsre guvf zrffntr vzzrqvngryl\n"
     ]
    }
   ],
   "source": [
    "encrypted_message = encrypt('Transfer this message immediately, this is not a drill, transfer this message immediately!!!',13)\n",
    "print(encrypted_message)"
   ]
  },
  {
   "cell_type": "markdown",
   "metadata": {},
   "source": [
    "## Decryption\n",
    "\n",
    "Now create a new function that will \"decrypt\" a shifted message. It should basically do the reverse of the encryption function. The process will be very similar as your previous function, but the alphabets will be switched."
   ]
  },
  {
   "cell_type": "code",
   "execution_count": 47,
   "metadata": {
    "collapsed": true
   },
   "outputs": [],
   "source": [
    "import string\n",
    "def decrypt(text,shift):\n",
    "    '''\n",
    "    INPUT: A shifted message and the integer shift value\n",
    "    OUTPUT: The plain text original message.\n",
    "    '''\n",
    "    \n",
    "    # Create a normal plain alphabet\n",
    "    alphabet = string.ascii_lowercase\n",
    "    # Create a shifted version of this alphabet with the shift value.\n",
    "    shifted_alphabet = alphabet[shift:] + alphabet[:shift]\n",
    "    # Use a for loop to go through each character in the encrypted message.\n",
    "    # Then figure out its index match in the plain alphabet and replace.\n",
    "    # It might be helpful to create an output variable to hold the new message.\n",
    "    # Keep in mind you may want to skip punctuation with an if statement.\n",
    "    decrypted_characters = []\n",
    "    for char in text:\n",
    "        if char.isalpha() or char.isspace():\n",
    "            is_upper = char.isupper()\n",
    "            try:\n",
    "                index = shifted_alphabet.index(char.lower())\n",
    "                original_char = alphabet[index]\n",
    "                decrypted_characters.append(original_char.upper() if is_upper else original_char)\n",
    "            except ValueError:\n",
    "                decrypted_characters.append(char)\n",
    "    # Return the original message. Use ''.join() method \n",
    "    decrypted_text = ''.join(decrypted_characters)\n",
    "    # if you still have it as a list.\n",
    "    return decrypted_text"
   ]
  },
  {
   "cell_type": "markdown",
   "metadata": {},
   "source": [
    "** Here is an example output: **"
   ]
  },
  {
   "cell_type": "code",
   "execution_count": 46,
   "metadata": {},
   "outputs": [
    {
     "name": "stdout",
     "output_type": "stream",
     "text": [
      "Transfer this message immediately this is not a drill transfer this message immediately\n"
     ]
    }
   ],
   "source": [
    "decrypted_message = decrypt('Genafsre guvf zrffntr vzzrqvngryl guvf vf abg n qevyy genafsre guvf zrffntr vzzrqvngryl', 13)\n",
    "print(decrypted_message)"
   ]
  }
 ],
 "metadata": {
  "kernelspec": {
   "display_name": "Python 3",
   "language": "python",
   "name": "python3"
  },
  "language_info": {
   "codemirror_mode": {
    "name": "ipython",
    "version": 3
   },
   "file_extension": ".py",
   "mimetype": "text/x-python",
   "name": "python",
   "nbconvert_exporter": "python",
   "pygments_lexer": "ipython3",
   "version": "3.6.1"
  }
 },
 "nbformat": 4,
 "nbformat_minor": 2
}
